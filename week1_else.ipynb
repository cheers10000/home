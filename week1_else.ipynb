{
 "cells": [
  {
   "cell_type": "code",
   "execution_count": 5,
   "id": "57220af0-8173-4169-94ba-23368264da1f",
   "metadata": {},
   "outputs": [],
   "source": [
    "import numpy as np\n",
    "import pandas as pd\n",
    "import matplotlib.pyplot as plt"
   ]
  },
  {
   "cell_type": "code",
   "execution_count": 7,
   "id": "502714ca-b5b2-46fb-b2ac-4d056f23279e",
   "metadata": {},
   "outputs": [
    {
     "data": {
      "text/html": [
       "<div>\n",
       "<style scoped>\n",
       "    .dataframe tbody tr th:only-of-type {\n",
       "        vertical-align: middle;\n",
       "    }\n",
       "\n",
       "    .dataframe tbody tr th {\n",
       "        vertical-align: top;\n",
       "    }\n",
       "\n",
       "    .dataframe thead th {\n",
       "        text-align: right;\n",
       "    }\n",
       "</style>\n",
       "<table border=\"1\" class=\"dataframe\">\n",
       "  <thead>\n",
       "    <tr style=\"text-align: right;\">\n",
       "      <th></th>\n",
       "      <th>Test 1</th>\n",
       "      <th>Test 2</th>\n",
       "      <th>Accepted</th>\n",
       "    </tr>\n",
       "  </thead>\n",
       "  <tbody>\n",
       "    <tr>\n",
       "      <th>0</th>\n",
       "      <td>0.051267</td>\n",
       "      <td>0.69956</td>\n",
       "      <td>1</td>\n",
       "    </tr>\n",
       "    <tr>\n",
       "      <th>1</th>\n",
       "      <td>-0.092742</td>\n",
       "      <td>0.68494</td>\n",
       "      <td>1</td>\n",
       "    </tr>\n",
       "    <tr>\n",
       "      <th>2</th>\n",
       "      <td>-0.213710</td>\n",
       "      <td>0.69225</td>\n",
       "      <td>1</td>\n",
       "    </tr>\n",
       "    <tr>\n",
       "      <th>3</th>\n",
       "      <td>-0.375000</td>\n",
       "      <td>0.50219</td>\n",
       "      <td>1</td>\n",
       "    </tr>\n",
       "    <tr>\n",
       "      <th>4</th>\n",
       "      <td>-0.513250</td>\n",
       "      <td>0.46564</td>\n",
       "      <td>1</td>\n",
       "    </tr>\n",
       "  </tbody>\n",
       "</table>\n",
       "</div>"
      ],
      "text/plain": [
       "     Test 1   Test 2  Accepted\n",
       "0  0.051267  0.69956         1\n",
       "1 -0.092742  0.68494         1\n",
       "2 -0.213710  0.69225         1\n",
       "3 -0.375000  0.50219         1\n",
       "4 -0.513250  0.46564         1"
      ]
     },
     "execution_count": 7,
     "metadata": {},
     "output_type": "execute_result"
    }
   ],
   "source": [
    "data=pd.read_csv(r\"D:\\ex2data2.txt\",names=[\"Test 1\",\"Test 2\",\"Accepted\"])\n",
    "data.head()"
   ]
  },
  {
   "cell_type": "code",
   "execution_count": 9,
   "id": "b9de9b31-6e5c-4457-85b1-415d777c9273",
   "metadata": {},
   "outputs": [
    {
     "data": {
      "image/png": "[encoded data removed]",
      "text/plain": [
       "<Figure size 640x480 with 1 Axes>"
      ]
     },
     "metadata": {},
     "output_type": "display_data"
    }
   ],
   "source": [
    "fig,ax=plt.subplots()\n",
    "ax.scatter(data[data[\"Accepted\"]==0][\"Test 1\"],data[data[\"Accepted\"]==0][\"Test 2\"],c=\"r\",marker=\"x\",label=\"y=0\")\n",
    "ax.scatter(data[data[\"Accepted\"]==1][\"Test 1\"],data[data[\"Accepted\"]==1][\"Test 2\"],c=\"b\",marker=\"o\",label=\"y=1\")\n",
    "ax.legend()\n",
    "ax.set(xlabel=\"Test1\",\n",
    "       ylabel=\"Test2\")\n",
    "plt.show()"
   ]
  },
  {
   "cell_type": "code",
   "execution_count": 11,
   "id": "4009e904-b278-4bb4-ac7a-1566f37666e9",
   "metadata": {},
   "outputs": [],
   "source": [
    "# 特征映射\n",
    "def feature_mapping(x1,x2,power):\n",
    "    data={}\n",
    "    for i in np.arange(power+1):\n",
    "        for j in np.arange(i+1):\n",
    "            data[\"F{}{}\".format(i-j,j)]=np.power(x1,i-j)*np.power(x2,j)\n",
    "    return pd.DataFrame(data)"
   ]
  },
  {
   "cell_type": "code",
   "execution_count": 13,
   "id": "63eff74a-2ee5-476c-920f-cb93e9212420",
   "metadata": {},
   "outputs": [],
   "source": [
    "x1=data[\"Test 1\"]\n",
    "x2=data[\"Test 2\"]"
   ]
  },
  {
   "cell_type": "code",
   "execution_count": 15,
   "id": "e68bdf44-0750-478c-9e5f-c64069f253a9",
   "metadata": {},
   "outputs": [],
   "source": [
    "data2=feature_mapping(x1,x2,6)"
   ]
  },
  {
   "cell_type": "code",
   "execution_count": 17,
   "id": "ea0736b2-cf0b-45c2-9faf-8c75cea2c50d",
   "metadata": {},
   "outputs": [
    {
     "data": {
      "text/html": [
       "<div>\n",
       "<style scoped>\n",
       "    .dataframe tbody tr th:only-of-type {\n",
       "        vertical-align: middle;\n",
       "    }\n",
       "\n",
       "    .dataframe tbody tr th {\n",
       "        vertical-align: top;\n",
       "    }\n",
       "\n",
       "    .dataframe thead th {\n",
       "        text-align: right;\n",
       "    }\n",
       "</style>\n",
       "<table border=\"1\" class=\"dataframe\">\n",
       "  <thead>\n",
       "    <tr style=\"text-align: right;\">\n",
       "      <th></th>\n",
       "      <th>F00</th>\n",
       "      <th>F10</th>\n",
       "      <th>F01</th>\n",
       "      <th>F20</th>\n",
       "      <th>F11</th>\n",
       "      <th>F02</th>\n",
       "      <th>F30</th>\n",
       "      <th>F21</th>\n",
       "      <th>F12</th>\n",
       "      <th>F03</th>\n",
       "      <th>...</th>\n",
       "      <th>F23</th>\n",
       "      <th>F14</th>\n",
       "      <th>F05</th>\n",
       "      <th>F60</th>\n",
       "      <th>F51</th>\n",
       "      <th>F42</th>\n",
       "      <th>F33</th>\n",
       "      <th>F24</th>\n",
       "      <th>F15</th>\n",
       "      <th>F06</th>\n",
       "    </tr>\n",
       "  </thead>\n",
       "  <tbody>\n",
       "    <tr>\n",
       "      <th>0</th>\n",
       "      <td>1.0</td>\n",
       "      <td>0.051267</td>\n",
       "      <td>0.69956</td>\n",
       "      <td>0.002628</td>\n",
       "      <td>0.035864</td>\n",
       "      <td>0.489384</td>\n",
       "      <td>0.000135</td>\n",
       "      <td>0.001839</td>\n",
       "      <td>0.025089</td>\n",
       "      <td>0.342354</td>\n",
       "      <td>...</td>\n",
       "      <td>0.000900</td>\n",
       "      <td>0.012278</td>\n",
       "      <td>0.167542</td>\n",
       "      <td>1.815630e-08</td>\n",
       "      <td>2.477505e-07</td>\n",
       "      <td>0.000003</td>\n",
       "      <td>0.000046</td>\n",
       "      <td>0.000629</td>\n",
       "      <td>0.008589</td>\n",
       "      <td>0.117206</td>\n",
       "    </tr>\n",
       "    <tr>\n",
       "      <th>1</th>\n",
       "      <td>1.0</td>\n",
       "      <td>-0.092742</td>\n",
       "      <td>0.68494</td>\n",
       "      <td>0.008601</td>\n",
       "      <td>-0.063523</td>\n",
       "      <td>0.469143</td>\n",
       "      <td>-0.000798</td>\n",
       "      <td>0.005891</td>\n",
       "      <td>-0.043509</td>\n",
       "      <td>0.321335</td>\n",
       "      <td>...</td>\n",
       "      <td>0.002764</td>\n",
       "      <td>-0.020412</td>\n",
       "      <td>0.150752</td>\n",
       "      <td>6.362953e-07</td>\n",
       "      <td>-4.699318e-06</td>\n",
       "      <td>0.000035</td>\n",
       "      <td>-0.000256</td>\n",
       "      <td>0.001893</td>\n",
       "      <td>-0.013981</td>\n",
       "      <td>0.103256</td>\n",
       "    </tr>\n",
       "    <tr>\n",
       "      <th>2</th>\n",
       "      <td>1.0</td>\n",
       "      <td>-0.213710</td>\n",
       "      <td>0.69225</td>\n",
       "      <td>0.045672</td>\n",
       "      <td>-0.147941</td>\n",
       "      <td>0.479210</td>\n",
       "      <td>-0.009761</td>\n",
       "      <td>0.031616</td>\n",
       "      <td>-0.102412</td>\n",
       "      <td>0.331733</td>\n",
       "      <td>...</td>\n",
       "      <td>0.015151</td>\n",
       "      <td>-0.049077</td>\n",
       "      <td>0.158970</td>\n",
       "      <td>9.526844e-05</td>\n",
       "      <td>-3.085938e-04</td>\n",
       "      <td>0.001000</td>\n",
       "      <td>-0.003238</td>\n",
       "      <td>0.010488</td>\n",
       "      <td>-0.033973</td>\n",
       "      <td>0.110047</td>\n",
       "    </tr>\n",
       "    <tr>\n",
       "      <th>3</th>\n",
       "      <td>1.0</td>\n",
       "      <td>-0.375000</td>\n",
       "      <td>0.50219</td>\n",
       "      <td>0.140625</td>\n",
       "      <td>-0.188321</td>\n",
       "      <td>0.252195</td>\n",
       "      <td>-0.052734</td>\n",
       "      <td>0.070620</td>\n",
       "      <td>-0.094573</td>\n",
       "      <td>0.126650</td>\n",
       "      <td>...</td>\n",
       "      <td>0.017810</td>\n",
       "      <td>-0.023851</td>\n",
       "      <td>0.031940</td>\n",
       "      <td>2.780914e-03</td>\n",
       "      <td>-3.724126e-03</td>\n",
       "      <td>0.004987</td>\n",
       "      <td>-0.006679</td>\n",
       "      <td>0.008944</td>\n",
       "      <td>-0.011978</td>\n",
       "      <td>0.016040</td>\n",
       "    </tr>\n",
       "    <tr>\n",
       "      <th>4</th>\n",
       "      <td>1.0</td>\n",
       "      <td>-0.513250</td>\n",
       "      <td>0.46564</td>\n",
       "      <td>0.263426</td>\n",
       "      <td>-0.238990</td>\n",
       "      <td>0.216821</td>\n",
       "      <td>-0.135203</td>\n",
       "      <td>0.122661</td>\n",
       "      <td>-0.111283</td>\n",
       "      <td>0.100960</td>\n",
       "      <td>...</td>\n",
       "      <td>0.026596</td>\n",
       "      <td>-0.024128</td>\n",
       "      <td>0.021890</td>\n",
       "      <td>1.827990e-02</td>\n",
       "      <td>-1.658422e-02</td>\n",
       "      <td>0.015046</td>\n",
       "      <td>-0.013650</td>\n",
       "      <td>0.012384</td>\n",
       "      <td>-0.011235</td>\n",
       "      <td>0.010193</td>\n",
       "    </tr>\n",
       "  </tbody>\n",
       "</table>\n",
       "<p>5 rows × 28 columns</p>\n",
       "</div>"
      ],
      "text/plain": [
       "   F00       F10      F01       F20       F11       F02       F30       F21  \\\n",
       "0  1.0  0.051267  0.69956  0.002628  0.035864  0.489384  0.000135  0.001839   \n",
       "1  1.0 -0.092742  0.68494  0.008601 -0.063523  0.469143 -0.000798  0.005891   \n",
       "2  1.0 -0.213710  0.69225  0.045672 -0.147941  0.479210 -0.009761  0.031616   \n",
       "3  1.0 -0.375000  0.50219  0.140625 -0.188321  0.252195 -0.052734  0.070620   \n",
       "4  1.0 -0.513250  0.46564  0.263426 -0.238990  0.216821 -0.135203  0.122661   \n",
       "\n",
       "        F12       F03  ...       F23       F14       F05           F60  \\\n",
       "0  0.025089  0.342354  ...  0.000900  0.012278  0.167542  1.815630e-08   \n",
       "1 -0.043509  0.321335  ...  0.002764 -0.020412  0.150752  6.362953e-07   \n",
       "2 -0.102412  0.331733  ...  0.015151 -0.049077  0.158970  9.526844e-05   \n",
       "3 -0.094573  0.126650  ...  0.017810 -0.023851  0.031940  2.780914e-03   \n",
       "4 -0.111283  0.100960  ...  0.026596 -0.024128  0.021890  1.827990e-02   \n",
       "\n",
       "            F51       F42       F33       F24       F15       F06  \n",
       "0  2.477505e-07  0.000003  0.000046  0.000629  0.008589  0.117206  \n",
       "1 -4.699318e-06  0.000035 -0.000256  0.001893 -0.013981  0.103256  \n",
       "2 -3.085938e-04  0.001000 -0.003238  0.010488 -0.033973  0.110047  \n",
       "3 -3.724126e-03  0.004987 -0.006679  0.008944 -0.011978  0.016040  \n",
       "4 -1.658422e-02  0.015046 -0.013650  0.012384 -0.011235  0.010193  \n",
       "\n",
       "[5 rows x 28 columns]"
      ]
     },
     "execution_count": 17,
     "metadata": {},
     "output_type": "execute_result"
    }
   ],
   "source": [
    "data2.head()"
   ]
  },
  {
   "cell_type": "code",
   "execution_count": 184,
   "id": "f366d73c-b915-47ea-a179-ab2e4f6bb1f0",
   "metadata": {},
   "outputs": [],
   "source": [
    "# 构造数据集"
   ]
  },
  {
   "cell_type": "code",
   "execution_count": 19,
   "id": "764472a6-880c-4907-bfed-9ea045f1dad7",
   "metadata": {},
   "outputs": [],
   "source": [
    "X=data2.values"
   ]
  },
  {
   "cell_type": "code",
   "execution_count": 21,
   "id": "bb5a0825-13fb-4b9c-b5a4-739d37860b26",
   "metadata": {},
   "outputs": [
    {
     "data": {
      "text/plain": [
       "(118, 28)"
      ]
     },
     "execution_count": 21,
     "metadata": {},
     "output_type": "execute_result"
    }
   ],
   "source": [
    "X.shape"
   ]
  },
  {
   "cell_type": "code",
   "execution_count": 23,
   "id": "c3b4a3bc-801d-4fae-ac33-3351e06c55e6",
   "metadata": {},
   "outputs": [],
   "source": [
    "y=data.iloc[:,-1].values"
   ]
  },
  {
   "cell_type": "code",
   "execution_count": 25,
   "id": "c3d876a8-0458-4f62-972b-0490ae8740cf",
   "metadata": {},
   "outputs": [
    {
     "data": {
      "text/plain": [
       "(118, 1)"
      ]
     },
     "execution_count": 25,
     "metadata": {},
     "output_type": "execute_result"
    }
   ],
   "source": [
    "y=y.reshape(len(y),1)\n",
    "y.shape"
   ]
  },
  {
   "cell_type": "code",
   "execution_count": 27,
   "id": "c4d30f82-ea3e-4e36-aed3-8a02818500b8",
   "metadata": {},
   "outputs": [],
   "source": [
    "# 损失函数\n",
    "def sigmoid(z):\n",
    "    return 1/(1+np.exp(-z))"
   ]
  },
  {
   "cell_type": "code",
   "execution_count": 29,
   "id": "634009e5-f56c-4975-8a61-4c08343682ea",
   "metadata": {},
   "outputs": [],
   "source": [
    "def costFunction(X,y,theta,lamda):\n",
    "    A=sigmoid(X@theta)\n",
    "    first=y*np.log(A)\n",
    "    second=(1-y)*np.log(1-A)\n",
    "    reg=np.sum(np.power(theta[1:],2))*(lamda/(2*len(X)))\n",
    "    return -np.sum(first+second)/len(X)+reg"
   ]
  },
  {
   "cell_type": "code",
   "execution_count": 31,
   "id": "a97df28b-fa91-4bed-9d51-812066243bb3",
   "metadata": {},
   "outputs": [
    {
     "data": {
      "text/plain": [
       "(28, 1)"
      ]
     },
     "execution_count": 31,
     "metadata": {},
     "output_type": "execute_result"
    }
   ],
   "source": [
    "theta=np.zeros((28,1))\n",
    "theta.shape"
   ]
  },
  {
   "cell_type": "code",
   "execution_count": 33,
   "id": "fc1d85b3-cfc0-43c7-888d-48419eec4547",
   "metadata": {},
   "outputs": [
    {
     "name": "stdout",
     "output_type": "stream",
     "text": [
      "0.6931471805599454\n"
     ]
    }
   ],
   "source": [
    "lamda=1\n",
    "cost_init=costFunction(X,y,theta,lamda)\n",
    "print(cost_init)"
   ]
  },
  {
   "cell_type": "code",
   "execution_count": 35,
   "id": "b79ed4e0-0b30-427f-8825-4aabd218c28f",
   "metadata": {},
   "outputs": [],
   "source": [
    "# 梯度下降函数\n",
    "def gradientDescent(X,y,theta,alpha,iters,lamda):\n",
    "    costs=[]\n",
    "    for i in range(iters):\n",
    "        reg=theta[1:]*(lamda/len(X))\n",
    "        reg=np.insert(reg,0,values=0,axis=0)\n",
    "        theta=theta-(X.T@(sigmoid(X@theta)-y))*alpha/len(X)-reg*alpha\n",
    "        cost=costFunction(X,y,theta,lamda)\n",
    "        costs.append(cost)\n",
    "        if i%1000==0:\n",
    "            print(cost)\n",
    "    return theta,costs"
   ]
  },
  {
   "cell_type": "code",
   "execution_count": 37,
   "id": "bc43f0d8-7615-4f17-b6fc-d0c0ade335b9",
   "metadata": {},
   "outputs": [],
   "source": [
    "alpha=0.001\n",
    "iters=200000\n",
    "lamda=0.001"
   ]
  },
  {
   "cell_type": "code",
   "execution_count": 39,
   "id": "1771e9ae-e1f4-4697-85a0-ca7ca37f3d0b",
   "metadata": {},
   "outputs": [
    {
     "name": "stdout",
     "output_type": "stream",
     "text": [
      "0.693134380798985\n",
      "0.6818207729778132\n",
      "0.6725974534826156\n",
      "0.6646386240403803\n",
      "0.6575093538238375\n",
      "0.6509718395182029\n",
      "0.6448884710940886\n",
      "0.6391737353688466\n",
      "0.6337702418573659\n",
      "0.6286366014804017\n",
      "0.6237411486351028\n",
      "0.6190585708214384\n",
      "0.6145680074385785\n",
      "0.6102519084447487\n",
      "0.6060952995813559\n",
      "0.6020852755591007\n",
      "0.5982106289182401\n",
      "0.5944615653289776\n",
      "0.5908294778704326\n",
      "0.5873067640636911\n",
      "0.5838866754107954\n",
      "0.5805631925079233\n",
      "0.5773309207469289\n",
      "0.5741850028389882\n",
      "0.5711210452127979\n",
      "0.5681350559248263\n",
      "0.5652233921588475\n",
      "0.5623827157348078\n",
      "0.5596099553210291\n",
      "0.5569022742661284\n",
      "0.5542570431493506\n",
      "0.5516718162983197\n",
      "0.5491443116476307\n",
      "0.5466723934148944\n",
      "0.5442540571565863\n",
      "0.5418874168373466\n",
      "0.5395706936057472\n",
      "0.5373022060189993\n",
      "0.5350803615003243\n",
      "0.5329036488471296\n",
      "0.5307706316368961\n",
      "0.5286799424017219\n",
      "0.5266302774625866\n",
      "0.5246203923312629\n",
      "0.5226490976019255\n",
      "0.5207152552663786\n",
      "0.5188177753967816\n",
      "0.5169556131481401\n",
      "0.5151277660398906\n",
      "0.5133332714818488\n",
      "0.5115712045148234\n",
      "0.5098406757404326\n",
      "0.5081408294182521\n",
      "0.5064708417114696\n",
      "0.5048299190647904\n",
      "0.5032172967005383\n",
      "0.5016322372207572\n",
      "0.5000740293047032\n",
      "0.49854198649248044\n",
      "0.49703544604672145\n",
      "0.49555376788521904\n",
      "0.4940963335782524\n",
      "0.492662545405095\n",
      "0.4912518254648177\n",
      "0.48986361483704205\n",
      "0.4884973727887733\n",
      "0.48715257602385503\n",
      "0.4858287179719334\n",
      "0.4845253081141379\n",
      "0.48324187134295254\n",
      "0.48197794735399\n",
      "0.48073309006758896\n",
      "0.47950686707834206\n",
      "0.47829885913082154\n",
      "0.47710865961991666\n",
      "0.47593587411432614\n",
      "0.4747801199018578\n",
      "0.4736410255553038\n",
      "0.47251823051773434\n",
      "0.4714113847061505\n",
      "0.470320148132509\n",
      "0.46924419054118893\n",
      "0.4681831910620525\n",
      "0.4671368378782875\n",
      "0.4661048279082864\n",
      "0.4650868665008538\n",
      "0.46408266714308527\n",
      "0.4630919511802933\n",
      "0.4621144475473991\n",
      "0.4611498925112398\n",
      "0.46019802942327037\n",
      "0.45925860848217526\n",
      "0.4583313865059241\n",
      "0.4574161267128371\n",
      "0.4565125985112461\n",
      "0.4556205772973604\n",
      "0.45473984426096975\n",
      "0.45387018619862823\n",
      "0.4530113953339916\n",
      "0.4521632691449896\n",
      "0.45132561019753364\n",
      "0.4504982259854766\n",
      "0.4496809287765522\n",
      "0.44887353546403747\n",
      "0.4480758674238958\n",
      "0.4472877503771629\n",
      "0.4465090142573604\n",
      "0.4457394930827204\n",
      "0.44497902483302476\n",
      "0.44422745133086294\n",
      "0.44348461812713086\n",
      "0.4427503743905932\n",
      "0.4420245728013455\n",
      "0.4413070694480149\n",
      "0.44059772372855216\n",
      "0.4398963982544684\n",
      "0.4392029587583794\n",
      "0.43851727400472595\n",
      "0.43783921570354417\n",
      "0.43716865842716895\n",
      "0.43650547952974894\n",
      "0.43584955906947337\n",
      "0.4352007797333937\n",
      "0.4345590267647532\n",
      "0.433924187892716\n",
      "0.4332961532644138\n",
      "0.4326748153792152\n",
      "0.43206006902513794\n",
      "0.43145181121732257\n",
      "0.4308499411384883\n",
      "0.4302543600813002\n",
      "0.4296649713925754\n",
      "0.42908168041925976\n",
      "0.4285043944561119\n",
      "0.42793302269503164\n",
      "0.427367476175971\n",
      "0.4268076677393734\n",
      "0.4262535119800856\n",
      "0.4257049252026873\n",
      "0.4251618253781901\n",
      "0.4246241321020567\n",
      "0.42409176655349307\n",
      "0.4235646514559706\n",
      "0.4230427110389316\n",
      "0.4225258710006411\n",
      "0.42201405847214235\n",
      "0.42150720198228003\n",
      "0.42100523142375124\n",
      "0.42050807802015316\n",
      "0.42001567429399145\n",
      "0.4195279540356149\n",
      "0.4190448522730495\n",
      "0.41856630524269833\n",
      "0.4180922503608783\n",
      "0.4176226261961695\n",
      "0.4171573724425453\n",
      "0.4166964298932593\n",
      "0.4162397404154689\n",
      "0.41578724692556285\n",
      "0.4153388933651762\n",
      "0.41489462467786875\n",
      "0.41445438678644564\n",
      "0.4140181265708978\n",
      "0.41358579184694555\n",
      "0.41315733134516364\n",
      "0.41273269469067037\n",
      "0.4123118323833628\n",
      "0.41189469577868126\n",
      "0.41148123706888573\n",
      "0.4110714092648289\n",
      "0.41066516617821014\n",
      "0.4102624624042972\n",
      "0.40986325330509743\n",
      "0.40946749499296886\n",
      "0.40907514431465514\n",
      "0.40868615883573384\n",
      "0.40830049682546155\n",
      "0.40791811724200905\n",
      "0.4075389797180715\n",
      "0.40716304454684227\n",
      "0.4067902726683422\n",
      "0.40642062565609144\n",
      "0.40605406570411345\n",
      "0.4056905556142653\n",
      "0.4053300587838791\n",
      "0.4049725391937105\n",
      "0.40461796139618145\n",
      "0.4042662905039127\n",
      "0.40391749217853373\n",
      "0.40357153261976514\n",
      "0.40322837855476357\n",
      "0.40288799722772456\n",
      "0.4025503563897326\n",
      "0.402215424288854\n",
      "0.40188316966046417\n",
      "0.4015535617178052\n",
      "0.40122657014276364\n",
      "0.4009021650768651\n",
      "0.40058031711247993\n",
      "0.4002609972842321\n"
     ]
    }
   ],
   "source": [
    "theta_final,costs=gradientDescent(X,y,theta,alpha,iters,lamda)"
   ]
  },
  {
   "cell_type": "code",
   "execution_count": 41,
   "id": "5ae23abe-385d-4322-81f8-df198cb0b10b",
   "metadata": {},
   "outputs": [],
   "source": [
    "def predict(X,theta):\n",
    "    prob=sigmoid(X@theta)\n",
    "    return [1 if x>=0.5 else 0 for x in prob]"
   ]
  },
  {
   "cell_type": "code",
   "execution_count": 43,
   "id": "05f11f78-d7ab-48d3-8977-86e027be2ca3",
   "metadata": {},
   "outputs": [
    {
     "name": "stdout",
     "output_type": "stream",
     "text": [
      "0.8135593220338984\n"
     ]
    }
   ],
   "source": [
    "y_=np.array(predict(X,theta_final))\n",
    "y_pre=y_.reshape(len(y_),1)\n",
    "acc=np.mean(y_pre==y)\n",
    "print(acc)"
   ]
  },
  {
   "cell_type": "code",
   "execution_count": 45,
   "id": "1dccf4cd-a317-4e8d-a4c7-63d9716841d9",
   "metadata": {},
   "outputs": [
    {
     "data": {
      "image/png": "[encoded data removed]",
      "text/plain": [
       "<Figure size 640x480 with 1 Axes>"
      ]
     },
     "metadata": {},
     "output_type": "display_data"
    }
   ],
   "source": [
    "x=np.linspace(-1.2,1.2,200)\n",
    "xx,yy=np.meshgrid(x,x)\n",
    "z=feature_mapping(xx.ravel(),yy.ravel(),6).values\n",
    "zz=z@theta_final\n",
    "zz=zz.reshape(xx.shape)\n",
    "fig,ax=plt.subplots()\n",
    "ax.scatter(data[data[\"Accepted\"]==0][\"Test 1\"],data[data[\"Accepted\"]==0][\"Test 2\"],c=\"r\",marker=\"x\",label=\"y=0\")\n",
    "ax.scatter(data[data[\"Accepted\"]==1][\"Test 1\"],data[data[\"Accepted\"]==1][\"Test 2\"],c=\"b\",marker=\"o\",label=\"y=1\")\n",
    "ax.legend()\n",
    "ax.set(xlabel=\"Test1\",\n",
    "       ylabel=\"Test2\")\n",
    "plt.contour(xx,yy,zz,0)\n",
    "plt.show()"
   ]
  }
 ],
 "metadata": {
  "kernelspec": {
   "display_name": "Python [conda env:base] *",
   "language": "python",
   "name": "conda-base-py"
  },
  "language_info": {
   "codemirror_mode": {
    "name": "ipython",
    "version": 3
   },
   "file_extension": ".py",
   "mimetype": "text/x-python",
   "name": "python",
   "nbconvert_exporter": "python",
   "pygments_lexer": "ipython3",
   "version": "3.12.7"
  }
 },
 "nbformat": 4,
 "nbformat_minor": 5
}
